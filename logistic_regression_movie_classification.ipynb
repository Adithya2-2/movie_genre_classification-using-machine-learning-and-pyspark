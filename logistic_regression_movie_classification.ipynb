{
  "nbformat": 4,
  "nbformat_minor": 0,
  "metadata": {
    "colab": {
      "provenance": [],
      "gpuType": "T4"
    },
    "kernelspec": {
      "name": "python3",
      "display_name": "Python 3"
    },
    "language_info": {
      "name": "python"
    },
    "accelerator": "GPU"
  },
  "cells": [
    {
      "cell_type": "code",
      "execution_count": null,
      "metadata": {
        "id": "l0tB6u0CvPPE",
        "colab": {
          "base_uri": "https://localhost:8080/"
        },
        "outputId": "412f11c6-cd21-43ce-ee88-83459d9ee174"
      },
      "outputs": [
        {
          "output_type": "stream",
          "name": "stdout",
          "text": [
            "Collecting en-core-web-sm==3.7.1\n",
            "  Downloading https://github.com/explosion/spacy-models/releases/download/en_core_web_sm-3.7.1/en_core_web_sm-3.7.1-py3-none-any.whl (12.8 MB)\n",
            "\u001b[2K     \u001b[90m━━━━━━━━━━━━━━━━━━━━━━━━━━━━━━━━━━━━━━━━\u001b[0m \u001b[32m12.8/12.8 MB\u001b[0m \u001b[31m58.8 MB/s\u001b[0m eta \u001b[36m0:00:00\u001b[0m\n",
            "\u001b[?25hRequirement already satisfied: spacy<3.8.0,>=3.7.2 in /usr/local/lib/python3.10/dist-packages (from en-core-web-sm==3.7.1) (3.7.5)\n",
            "Requirement already satisfied: spacy-legacy<3.1.0,>=3.0.11 in /usr/local/lib/python3.10/dist-packages (from spacy<3.8.0,>=3.7.2->en-core-web-sm==3.7.1) (3.0.12)\n",
            "Requirement already satisfied: spacy-loggers<2.0.0,>=1.0.0 in /usr/local/lib/python3.10/dist-packages (from spacy<3.8.0,>=3.7.2->en-core-web-sm==3.7.1) (1.0.5)\n",
            "Requirement already satisfied: murmurhash<1.1.0,>=0.28.0 in /usr/local/lib/python3.10/dist-packages (from spacy<3.8.0,>=3.7.2->en-core-web-sm==3.7.1) (1.0.10)\n",
            "Requirement already satisfied: cymem<2.1.0,>=2.0.2 in /usr/local/lib/python3.10/dist-packages (from spacy<3.8.0,>=3.7.2->en-core-web-sm==3.7.1) (2.0.8)\n",
            "Requirement already satisfied: preshed<3.1.0,>=3.0.2 in /usr/local/lib/python3.10/dist-packages (from spacy<3.8.0,>=3.7.2->en-core-web-sm==3.7.1) (3.0.9)\n",
            "Requirement already satisfied: thinc<8.3.0,>=8.2.2 in /usr/local/lib/python3.10/dist-packages (from spacy<3.8.0,>=3.7.2->en-core-web-sm==3.7.1) (8.2.5)\n",
            "Requirement already satisfied: wasabi<1.2.0,>=0.9.1 in /usr/local/lib/python3.10/dist-packages (from spacy<3.8.0,>=3.7.2->en-core-web-sm==3.7.1) (1.1.3)\n",
            "Requirement already satisfied: srsly<3.0.0,>=2.4.3 in /usr/local/lib/python3.10/dist-packages (from spacy<3.8.0,>=3.7.2->en-core-web-sm==3.7.1) (2.4.8)\n",
            "Requirement already satisfied: catalogue<2.1.0,>=2.0.6 in /usr/local/lib/python3.10/dist-packages (from spacy<3.8.0,>=3.7.2->en-core-web-sm==3.7.1) (2.0.10)\n",
            "Requirement already satisfied: weasel<0.5.0,>=0.1.0 in /usr/local/lib/python3.10/dist-packages (from spacy<3.8.0,>=3.7.2->en-core-web-sm==3.7.1) (0.4.1)\n",
            "Requirement already satisfied: typer<1.0.0,>=0.3.0 in /usr/local/lib/python3.10/dist-packages (from spacy<3.8.0,>=3.7.2->en-core-web-sm==3.7.1) (0.13.0)\n",
            "Requirement already satisfied: tqdm<5.0.0,>=4.38.0 in /usr/local/lib/python3.10/dist-packages (from spacy<3.8.0,>=3.7.2->en-core-web-sm==3.7.1) (4.66.6)\n",
            "Requirement already satisfied: requests<3.0.0,>=2.13.0 in /usr/local/lib/python3.10/dist-packages (from spacy<3.8.0,>=3.7.2->en-core-web-sm==3.7.1) (2.32.3)\n",
            "Requirement already satisfied: pydantic!=1.8,!=1.8.1,<3.0.0,>=1.7.4 in /usr/local/lib/python3.10/dist-packages (from spacy<3.8.0,>=3.7.2->en-core-web-sm==3.7.1) (2.9.2)\n",
            "Requirement already satisfied: jinja2 in /usr/local/lib/python3.10/dist-packages (from spacy<3.8.0,>=3.7.2->en-core-web-sm==3.7.1) (3.1.4)\n",
            "Requirement already satisfied: setuptools in /usr/local/lib/python3.10/dist-packages (from spacy<3.8.0,>=3.7.2->en-core-web-sm==3.7.1) (75.1.0)\n",
            "Requirement already satisfied: packaging>=20.0 in /usr/local/lib/python3.10/dist-packages (from spacy<3.8.0,>=3.7.2->en-core-web-sm==3.7.1) (24.2)\n",
            "Requirement already satisfied: langcodes<4.0.0,>=3.2.0 in /usr/local/lib/python3.10/dist-packages (from spacy<3.8.0,>=3.7.2->en-core-web-sm==3.7.1) (3.4.1)\n",
            "Requirement already satisfied: numpy>=1.19.0 in /usr/local/lib/python3.10/dist-packages (from spacy<3.8.0,>=3.7.2->en-core-web-sm==3.7.1) (1.26.4)\n",
            "Requirement already satisfied: language-data>=1.2 in /usr/local/lib/python3.10/dist-packages (from langcodes<4.0.0,>=3.2.0->spacy<3.8.0,>=3.7.2->en-core-web-sm==3.7.1) (1.2.0)\n",
            "Requirement already satisfied: annotated-types>=0.6.0 in /usr/local/lib/python3.10/dist-packages (from pydantic!=1.8,!=1.8.1,<3.0.0,>=1.7.4->spacy<3.8.0,>=3.7.2->en-core-web-sm==3.7.1) (0.7.0)\n",
            "Requirement already satisfied: pydantic-core==2.23.4 in /usr/local/lib/python3.10/dist-packages (from pydantic!=1.8,!=1.8.1,<3.0.0,>=1.7.4->spacy<3.8.0,>=3.7.2->en-core-web-sm==3.7.1) (2.23.4)\n",
            "Requirement already satisfied: typing-extensions>=4.6.1 in /usr/local/lib/python3.10/dist-packages (from pydantic!=1.8,!=1.8.1,<3.0.0,>=1.7.4->spacy<3.8.0,>=3.7.2->en-core-web-sm==3.7.1) (4.12.2)\n",
            "Requirement already satisfied: charset-normalizer<4,>=2 in /usr/local/lib/python3.10/dist-packages (from requests<3.0.0,>=2.13.0->spacy<3.8.0,>=3.7.2->en-core-web-sm==3.7.1) (3.4.0)\n",
            "Requirement already satisfied: idna<4,>=2.5 in /usr/local/lib/python3.10/dist-packages (from requests<3.0.0,>=2.13.0->spacy<3.8.0,>=3.7.2->en-core-web-sm==3.7.1) (3.10)\n",
            "Requirement already satisfied: urllib3<3,>=1.21.1 in /usr/local/lib/python3.10/dist-packages (from requests<3.0.0,>=2.13.0->spacy<3.8.0,>=3.7.2->en-core-web-sm==3.7.1) (2.2.3)\n",
            "Requirement already satisfied: certifi>=2017.4.17 in /usr/local/lib/python3.10/dist-packages (from requests<3.0.0,>=2.13.0->spacy<3.8.0,>=3.7.2->en-core-web-sm==3.7.1) (2024.8.30)\n",
            "Requirement already satisfied: blis<0.8.0,>=0.7.8 in /usr/local/lib/python3.10/dist-packages (from thinc<8.3.0,>=8.2.2->spacy<3.8.0,>=3.7.2->en-core-web-sm==3.7.1) (0.7.11)\n",
            "Requirement already satisfied: confection<1.0.0,>=0.0.1 in /usr/local/lib/python3.10/dist-packages (from thinc<8.3.0,>=8.2.2->spacy<3.8.0,>=3.7.2->en-core-web-sm==3.7.1) (0.1.5)\n",
            "Requirement already satisfied: click>=8.0.0 in /usr/local/lib/python3.10/dist-packages (from typer<1.0.0,>=0.3.0->spacy<3.8.0,>=3.7.2->en-core-web-sm==3.7.1) (8.1.7)\n",
            "Requirement already satisfied: shellingham>=1.3.0 in /usr/local/lib/python3.10/dist-packages (from typer<1.0.0,>=0.3.0->spacy<3.8.0,>=3.7.2->en-core-web-sm==3.7.1) (1.5.4)\n",
            "Requirement already satisfied: rich>=10.11.0 in /usr/local/lib/python3.10/dist-packages (from typer<1.0.0,>=0.3.0->spacy<3.8.0,>=3.7.2->en-core-web-sm==3.7.1) (13.9.4)\n",
            "Requirement already satisfied: cloudpathlib<1.0.0,>=0.7.0 in /usr/local/lib/python3.10/dist-packages (from weasel<0.5.0,>=0.1.0->spacy<3.8.0,>=3.7.2->en-core-web-sm==3.7.1) (0.20.0)\n",
            "Requirement already satisfied: smart-open<8.0.0,>=5.2.1 in /usr/local/lib/python3.10/dist-packages (from weasel<0.5.0,>=0.1.0->spacy<3.8.0,>=3.7.2->en-core-web-sm==3.7.1) (7.0.5)\n",
            "Requirement already satisfied: MarkupSafe>=2.0 in /usr/local/lib/python3.10/dist-packages (from jinja2->spacy<3.8.0,>=3.7.2->en-core-web-sm==3.7.1) (3.0.2)\n",
            "Requirement already satisfied: marisa-trie>=0.7.7 in /usr/local/lib/python3.10/dist-packages (from language-data>=1.2->langcodes<4.0.0,>=3.2.0->spacy<3.8.0,>=3.7.2->en-core-web-sm==3.7.1) (1.2.1)\n",
            "Requirement already satisfied: markdown-it-py>=2.2.0 in /usr/local/lib/python3.10/dist-packages (from rich>=10.11.0->typer<1.0.0,>=0.3.0->spacy<3.8.0,>=3.7.2->en-core-web-sm==3.7.1) (3.0.0)\n",
            "Requirement already satisfied: pygments<3.0.0,>=2.13.0 in /usr/local/lib/python3.10/dist-packages (from rich>=10.11.0->typer<1.0.0,>=0.3.0->spacy<3.8.0,>=3.7.2->en-core-web-sm==3.7.1) (2.18.0)\n",
            "Requirement already satisfied: wrapt in /usr/local/lib/python3.10/dist-packages (from smart-open<8.0.0,>=5.2.1->weasel<0.5.0,>=0.1.0->spacy<3.8.0,>=3.7.2->en-core-web-sm==3.7.1) (1.16.0)\n",
            "Requirement already satisfied: mdurl~=0.1 in /usr/local/lib/python3.10/dist-packages (from markdown-it-py>=2.2.0->rich>=10.11.0->typer<1.0.0,>=0.3.0->spacy<3.8.0,>=3.7.2->en-core-web-sm==3.7.1) (0.1.2)\n",
            "\u001b[38;5;2m✔ Download and installation successful\u001b[0m\n",
            "You can now load the package via spacy.load('en_core_web_sm')\n",
            "\u001b[38;5;3m⚠ Restart to reload dependencies\u001b[0m\n",
            "If you are in a Jupyter or Colab notebook, you may need to restart Python in\n",
            "order to load all the package's dependencies. You can do this by selecting the\n",
            "'Restart kernel' or 'Restart runtime' option.\n"
          ]
        }
      ],
      "source": [
        "# Install PySpark and required libraries\n",
        "!apt-get install openjdk-8-jdk-headless -qq > /dev/null\n",
        "!pip install -q pyspark findspark nltk spacy\n",
        "\n",
        "# Install English model for SpaCy\n",
        "!python -m spacy download en_core_web_sm\n"
      ]
    },
    {
      "cell_type": "code",
      "source": [
        "# Import required libraries\n",
        "import findspark\n",
        "import pyspark\n",
        "from pyspark.ml.feature import RegexTokenizer, StopWordsRemover\n",
        "from pyspark.sql import SparkSession\n",
        "from pyspark.sql.types import IntegerType, ArrayType\n",
        "from sklearn.feature_extraction.text import CountVectorizer\n",
        "from sklearn.linear_model import LogisticRegression\n",
        "from sklearn.preprocessing import MultiLabelBinarizer\n",
        "import pandas as pd\n",
        "import os\n",
        "import joblib\n",
        "import nltk\n",
        "import spacy"
      ],
      "metadata": {
        "id": "uQTT6c8A0C0h"
      },
      "execution_count": null,
      "outputs": []
    },
    {
      "cell_type": "code",
      "source": [
        "# Initialize Spark\n",
        "findspark.init()\n",
        "sc = pyspark.SparkContext()\n",
        "spark = SparkSession.builder \\\n",
        "        .appName(\"GenrePrediction\") \\\n",
        "        .config(\"spark.driver.memory\", \"4g\") \\\n",
        "        .config(\"spark.executor.memory\", \"4g\") \\\n",
        "        .getOrCreate()"
      ],
      "metadata": {
        "id": "X50wwM970FRG"
      },
      "execution_count": null,
      "outputs": []
    },
    {
      "cell_type": "code",
      "source": [
        "# Download NLTK stopwords\n",
        "nltk.download(\"stopwords\")\n",
        "from nltk.corpus import stopwords\n",
        "\n",
        "# Load SpaCy model\n",
        "nlp = spacy.load(\"en_core_web_sm\")"
      ],
      "metadata": {
        "id": "8BG1vwwn0HCJ",
        "colab": {
          "base_uri": "https://localhost:8080/"
        },
        "outputId": "0fdd41aa-edb5-436a-c326-378d9a8a6a29"
      },
      "execution_count": null,
      "outputs": [
        {
          "output_type": "stream",
          "name": "stderr",
          "text": [
            "[nltk_data] Downloading package stopwords to /root/nltk_data...\n",
            "[nltk_data]   Unzipping corpora/stopwords.zip.\n"
          ]
        }
      ]
    },
    {
      "cell_type": "code",
      "source": [
        "# Read input data (training and mapping files)\n",
        "train_dframe = pd.read_csv('/content/train.csv')\n",
        "map_dframe = pd.read_csv('/content/mapping.csv')\n",
        "\n",
        "\n",
        "# Convert Pandas DataFrame to Spark DataFrame\n",
        "train_data = spark.createDataFrame(train_dframe)\n",
        "mapping_data = spark.createDataFrame(map_dframe, ['id', 'genre'])\n"
      ],
      "metadata": {
        "id": "uifV63zG0Jo1"
      },
      "execution_count": null,
      "outputs": []
    },
    {
      "cell_type": "code",
      "source": [
        "# Tokenization using RegexTokenizer\n",
        "tokenizer = RegexTokenizer(inputCol=\"plot\", outputCol=\"ptok\", pattern=\"\\\\w+\", gaps=False)\n",
        "train_data = tokenizer.transform(train_data)\n"
      ],
      "metadata": {
        "id": "LDqa9eFS0iLe"
      },
      "execution_count": null,
      "outputs": []
    },
    {
      "cell_type": "code",
      "source": [
        "# Remove stopwords using Spark's StopWordsRemover\n",
        "spark_remover = StopWordsRemover(inputCol=\"ptok\", outputCol=\"spark_clr\")\n",
        "train_data = spark_remover.transform(train_data)\n"
      ],
      "metadata": {
        "id": "htS2E4ta0jx3"
      },
      "execution_count": null,
      "outputs": []
    },
    {
      "cell_type": "code",
      "source": [
        "# Function to remove stopwords using NLTK\n",
        "nltk_stopwords = set(stopwords.words(\"english\"))\n",
        "\n",
        "def remove_stopwords_nltk(tokens):\n",
        "    return [word for word in tokens if word.lower() not in nltk_stopwords]\n"
      ],
      "metadata": {
        "id": "Eqjxa7uZ0myZ"
      },
      "execution_count": null,
      "outputs": []
    },
    {
      "cell_type": "code",
      "source": [
        "# Register UDF for NLTK stopword removal\n",
        "nltk_udf = pyspark.sql.functions.udf(remove_stopwords_nltk, ArrayType(IntegerType()))\n",
        "train_data = train_data.withColumn(\"nltk_clr\", nltk_udf(train_data[\"ptok\"]))\n"
      ],
      "metadata": {
        "id": "LwKyfV-n0o7B"
      },
      "execution_count": null,
      "outputs": []
    },
    {
      "cell_type": "code",
      "source": [
        "# Function to remove stopwords using SpaCy\n",
        "def remove_stopwords_spacy(tokens):\n",
        "    doc = nlp(\" \".join(tokens))\n",
        "    return [token.text for token in doc if not token.is_stop]\n"
      ],
      "metadata": {
        "id": "Cqu4G1tRZ5Zz"
      },
      "execution_count": null,
      "outputs": []
    },
    {
      "cell_type": "code",
      "source": [
        "# Register UDF for SpaCy stopword removal\n",
        "spacy_udf = pyspark.sql.functions.udf(remove_stopwords_spacy, ArrayType(IntegerType()))\n",
        "train_data = train_data.withColumn(\"spacy_clr\", spacy_udf(train_data[\"ptok\"]))\n",
        "\n",
        "# Select the \"spacy_clr\" column for further processing\n",
        "train_data = train_data.withColumn(\"final_clr\", train_data[\"spacy_clr\"])\n",
        "\n",
        "# Convert Spark DataFrame to Pandas for further processing\n",
        "train_data_pd = train_data.select(\"plot\", \"genre\", \"final_clr\").toPandas()\n"
      ],
      "metadata": {
        "id": "uLrNdL0o0rwz"
      },
      "execution_count": null,
      "outputs": []
    },
    {
      "cell_type": "code",
      "source": [
        "# Prepare text data using CountVectorizer\n",
        "vectorizer = CountVectorizer(max_features=1000)\n",
        "X_train = vectorizer.fit_transform(train_data_pd[\"plot\"])\n"
      ],
      "metadata": {
        "id": "5jVroe7U0t3r"
      },
      "execution_count": null,
      "outputs": []
    },
    {
      "cell_type": "code",
      "source": [
        "# Map genres to integer labels\n",
        "genre_count = map_dframe[\"id\"].nunique()\n",
        "mapper_details = {row[\"genre\"]: row[\"id\"] for index, row in map_dframe.iterrows()}\n",
        "\n",
        "def genreMapSplit(mapper_obj):\n",
        "    result = []\n",
        "    for element in mapper_obj[1:-1].split(\",\"):\n",
        "        result.append(mapper_details.get(element.strip()[1:-1]))\n",
        "    result.sort()\n",
        "    return result\n",
        "\n",
        "# Apply genre mapping\n",
        "train_data_pd[\"mapped_genres\"] = train_data_pd[\"genre\"].apply(genreMapSplit)\n"
      ],
      "metadata": {
        "id": "KBnxvk0z0vSy"
      },
      "execution_count": null,
      "outputs": []
    },
    {
      "cell_type": "code",
      "source": [
        "# Convert mapped genres into a multilabel binarized format\n",
        "mlb = MultiLabelBinarizer()\n",
        "y_train = mlb.fit_transform(train_data_pd[\"mapped_genres\"])\n"
      ],
      "metadata": {
        "id": "Qc-1foY00w9y"
      },
      "execution_count": null,
      "outputs": []
    },
    {
      "cell_type": "code",
      "source": [
        "# Train and save Logistic Regression models for each genre\n",
        "model_dir = \"lr_models\"\n",
        "os.makedirs(model_dir, exist_ok=True)\n",
        "\n",
        "for index in range(genre_count):\n",
        "    y_train_genre = y_train[:, index]\n",
        "\n",
        "    lr_model = LogisticRegression(max_iter=10000)\n",
        "    lr_model.fit(X_train, y_train_genre)\n",
        "\n",
        "    # Save the model\n",
        "    model_path = f\"{model_dir}/lr_model_{index}.pkl\"\n",
        "    joblib.dump(lr_model, model_path)\n",
        "    print(f\"Model for genre {index} saved successfully.\")\n",
        "\n",
        "# Logistic Regression Vectorizer\n",
        "lr_vectorizer = CountVectorizer(max_features=1000)\n",
        "X_train_lr = lr_vectorizer.fit_transform(train_data_pd['plot'])\n",
        "\n",
        "# Save the Logistic Regression vectorizer\n",
        "joblib.dump(lr_vectorizer, \"lr_vectorizer.pkl\")\n",
        "\n"
      ],
      "metadata": {
        "colab": {
          "base_uri": "https://localhost:8080/"
        },
        "id": "-3k6fw6901Yx",
        "outputId": "a6711c42-7041-448e-ed3a-2a561b00204c"
      },
      "execution_count": null,
      "outputs": [
        {
          "output_type": "stream",
          "name": "stdout",
          "text": [
            "Model for genre 0 saved successfully.\n",
            "Model for genre 1 saved successfully.\n",
            "Model for genre 2 saved successfully.\n",
            "Model for genre 3 saved successfully.\n",
            "Model for genre 4 saved successfully.\n",
            "Model for genre 5 saved successfully.\n",
            "Model for genre 6 saved successfully.\n",
            "Model for genre 7 saved successfully.\n",
            "Model for genre 8 saved successfully.\n",
            "Model for genre 9 saved successfully.\n",
            "Model for genre 10 saved successfully.\n",
            "Model for genre 11 saved successfully.\n",
            "Model for genre 12 saved successfully.\n",
            "Model for genre 13 saved successfully.\n",
            "Model for genre 14 saved successfully.\n",
            "Model for genre 15 saved successfully.\n",
            "Model for genre 16 saved successfully.\n",
            "Model for genre 17 saved successfully.\n",
            "Model for genre 18 saved successfully.\n",
            "Model for genre 19 saved successfully.\n"
          ]
        },
        {
          "output_type": "execute_result",
          "data": {
            "text/plain": [
              "['lr_vectorizer.pkl']"
            ]
          },
          "metadata": {},
          "execution_count": 15
        }
      ]
    },
    {
      "cell_type": "code",
      "source": [
        "# Function to predict genres for a given movie plot\n",
        "def predict_genres(description):\n",
        "    X_input = vectorizer.transform([description])\n",
        "    predicted_genres = []\n",
        "\n",
        "    for index in range(genre_count):\n",
        "        model_path = f\"{model_dir}/lr_model_{index}.pkl\"\n",
        "        if os.path.exists(model_path):\n",
        "            lr_model = joblib.load(model_path)\n",
        "            if lr_model.predict(X_input)[0] == 1:\n",
        "                genre_name = [k for k, v in mapper_details.items() if v == index][0]\n",
        "                predicted_genres.append(genre_name)\n",
        "\n",
        "    return predicted_genres\n"
      ],
      "metadata": {
        "id": "lHgptUaO03Qf"
      },
      "execution_count": null,
      "outputs": []
    },
    {
      "cell_type": "code",
      "source": [
        "# User input for movie description\n",
        "movie_plot = input(\"Enter the movie description (plot): \")\n",
        "\n",
        "# Predict genres for user input\n",
        "predicted_genres = predict_genres(movie_plot)\n",
        "print(f\"Predicted genres for the movie plot: {predicted_genres}\")"
      ],
      "metadata": {
        "colab": {
          "base_uri": "https://localhost:8080/"
        },
        "id": "ldLaBlVL04Wy",
        "outputId": "ea6b2ffa-f0cb-41a9-d404-23946213608e"
      },
      "execution_count": null,
      "outputs": [
        {
          "output_type": "stream",
          "name": "stdout",
          "text": [
            "Enter the movie description (plot):  Ninja Resurrection takes place in the Tokugawa era, at a time when Christians in Japan were being persecuted. The leader of the Shimabara Rebellion, Amakusa ShirÅ, hoped to resist the government forces attacking Christians like him but is assassinated. Soon after, Amakusa's restless spirit returns to avenge his fallen comrades and is up to YagyÅ« JÅ«bei Mitsuyoshi to put a stop to the demonic onslaught.  Jubei's Revenge begins a narration of the timepiece explaining the era, the war between toyotomi and tokugawa, the events that led up to the Shimabara rebellion, and a dark satanic prophecy about Shiro. Along with the narration there are Japanese paintings of these events. The first OVA called \"The Cant Of Hell\" shows a small band of soldiers raiding a village outside of Harano Castle, and smashing a statue of Madonna. All the villagers hide except for a little boy who they shoot. After the soldiers leave to report the Christian rebels to the shogun, a small girl named 'Ocho' runs to the boy's body and begs him to wake up. The boy, who is Shiro, miraculously revives and shows the approaching villagers that the bullet hit a crucifix he had. Sunlight shines through the clouds onto shiro and he raises the crucifix and a long beam of light shoots from it up into the sky. The villagers bowdown and worship Shiro and declare him to be 'Tenshi', the son of jehovah and the returned messiah and their saviour. The Madonna statue reforms. An evil-looking man in the bushes watches the events as they unfold and smiles. 55 years later, an army of government soldiers attack Harano castle in a fog but are killed by an onslaught of arrows. Inside the castle, the evil-looking man, who is revealed to be 'Soy Kanmoiri', gives a speech declaring their victory against the heretics. The Christians boisterously support him and declare that as long as they have Lord Shiro they will kill the Tokugawa and make all the lands Christian. After the speech, Lord Shiro speaks privately to Soy, informing him that the food supply exhausted two days ago and they were fighting on mere willpower. He opts to use the recent advantage to surrender himself in exchange for the lives of his people, but Soy says no and that he must have faith and that if they lose faith now then all they believed in would be a lie. Shiro tells Soy they can't win the war and everyone will die. Elsewhere, General Nobutsuna Matsudaira speaks with his commanders about the recent defeat. He is told that more than 500 were killed. Nobutsuna recognizes that the Christians are using black magic. Jubei arrives and tells Nobutsuna that the army will not breech the wall and he has a plan. Jubei then swiftly leaves. 5 months earlier the shogun had sent an army of 100,000 men to defeat the Christians, whom had attacked and seized Harano castle. The shogun, outraged that his army was defeated by peasants and farmers, sent Nobutsuna Matsudaira to destroy the Christians by any means. Nobutsuna orders all his men to attack the castle anyway. Miyamoto Musashi observes the army moving-out, from a faraway cliff. He declares that the army will not be able to penetrate and the men are being sacrificed uselessly. He then runs to join the army but sees a massive kite in the sky and comments on the ingenuity of this new approach. The extremely huge kite, tethered to someplace, floats high in the clouds above Harano castle. Jubei and four other ninjas are standing on a narrow platform on the kite. They leap from the platform through a lightningstorm and float down to the castle using capes. Using the aerial assault, Jubei and his four ninjas enter the castle and begin easily slicing the Christians in half. One ninja in particular who has a penchant for explosives detonates a wave of explosions throughout the castle. There is intense fighting with lots of blood. Nobutsuna's army uses a battering-ram to enter the castle, and the soldiers battle their enemies. Shiro gathers the women, kids, and old people into a part of the castle that the soldiers can't enter because it is protected by a seal. He promises to protect them with the power of god. However, the four ninjas know about this seal and the four barriers that are maintaining the seal. Each one destroys a barrier. Shiro is alerted to the destruction of the seal. Shiro senses Jubei and refers to him as a \"mighty power that will kill us\". Jubei slices a bunch of men and then comes across two kids whom he wall-runs past. The kids tell Soy, who smiles and slashes them. Jubei meets Shiro on a roof and Shiro bargains with him to spare the lives of the women and children if he commits seppuku. Shiro takes a tanto to kill himself but is stopped by Soy who shows him the decapitated heads of the two kids and tells him not to trust Jubei. Shiro goes ballistic and uses his magic to summon a lot of power into himself. He then uses the power of psychokinesis to destroy the roof and fire the tanto and shingles at Jubei. Shiro then summons a black dragon with which he attacks Jubei. Miyamoto, who has entered the castle, is easily slicing through Christian soldiers as he watches the events. Jubei tries to slice the dragon in half but it proves useless. He then flees but the dragon catches up to him. He holds on to the snout of the dragon as it flies through buildings and into the sky. Shiro emerges from the top of the dragon's head and begins strangling Jubei. Two of the ninjas try to assist Jubei by firing harpoons at the dragon but it breaks free. The biggest and strongest of the ninjas tells those two to stay put. He and the ninja who likes explosives perform a tactical attack. The ninja who likes explosives, opens up a bazooka and fires it at the dragon but it has little effect. The tall ninja, who attacks from a different angle, extends a folding metal suit of armour over his body, originating from two small shoulder pads. The armor gives him rocket propulsion and he flies into the dragon, causing massive damage. Jubei cuts off Shiro's hands and falls to earth. The dragon's head is still alive and sneaks up behind jubei. Jubei holds up the children's heads and hesitates Shiro mid-attack. He then throws his sword at Shiro, spearing him in the chest. The impact rips Shiro from the dragon's head and flings him into a window of the main chapel. The tall ninja lands and his armour folds back up into his shoulder pads.  The second OVA is called \"Hell's Spawn\". It begins by showing a younger Jubei kill five samurai with ease. Jubei's father, Munenori Yagyu, scolds him for his constant murders but Jubei makes excuses. Munenori challenges Jubei to a duel; warning him that he will not hesitate just because Jubei is his son. Jubei attacks but restrains himself and only slashes Munenori's shirt. Munenori jumps into the air and tosses a kunai into Jubei's eye. As Jubei stays bleeding, his father states that he knew Jubei would not attack him and used this knowledge against Jubei. Munenori tells Jubei that he must never lose and should exploit every weakness of his opponent and that he can't rely on strength alone. Jubei tells his father that he doesn't need his father's platitudes and that he is stronger than his father ever would be. Munenori banishes Jubei from his house and lands. There is a historical narration about the strongest swordsmen of the time and how swordmanship became a science and evolved. The samurai's discussed are Musashi Miyamoto, Mataemon Araki, Inshun Hosowei, Botaro Tamiya, Munenori Yagyu, and Jubei Yagyu. It states that their battles are legendary but their deaths are shrouded in mystery; for example, Musashi disappeared in foggy mountains and Mataemon was poisoned by an unknown person. Several months after the Shimabara Riot, Jubei is resting under a tree when he starts to have memories of the riot and all the bodies. An old man is riding into the Yagyu lands when he spots a boy and a girl spear-fishing. The girl keeps nagging the boy and he dunks her into the water. The old man rides on towards the Yagyu estate. The girl jumps onto Jubei and pretends to be frighten of a snake. She then confesses how much she likes Jubei. When the old man, whose name is Jushin Sagoguichi, enters the estate he is dismayed that it is in ruin and that some walls are broken down. A servant tells him that lord Jubei allowed it to get that way. Jubei and the two children arrive and it turns out that Jushin is the children's father. Inside the house, Jushin scolds his daughter for not being lady-like and scolds his son, who is his heir, for doing servant's chores. Jubei tries to calm him down with sake. Another young girl, named Ohina, enters the room bringing food. She speaks graciously to Lord Jushin and Jushin compliments her on how beautiful she has become since he last saw her. As Jushin and Jubei eat, Jushin tells them that the shogun, Yorinobu, has requested that all unmarried girls of noble birth between the ages of 15-23 should be brought to Kishu. Jubei finds the mandate strange. Onwei, Jushin's daughter, protests stating she wants to stay with Jubei. Jushin tells Jubei that the shogun is amassing a large army and gathering lots of food and it looks like he is going to increase taxes. He also tells Jubei that many strange men have been coming to the capital. Jushin also tells Jubei that many girls have gone missing. Jubei invites Jushin to watch the girls spar. In the morning, Ohina demonstrates her skills with a naginata by defeating a lot of men in a sparring match. Onwei then challenges Ohina and the two battle to a standstill. Jushin compliments them on their improvement and soon afterwards leaves with them to Kishu. Before Onwei leaves, she reminds Jubei to bathe at least once every three days and to wear clean clothes. As Jubei watches them go, he tells his servant to send a spy to watch the castle in Kishu and that he,Jubei, would be gone for five days. Somenight later, at Shosetsu Yui's residence in Edo, Ohina is attacked and raped by a born-again Inshun Hosowei. As he slowly rapes her, he licks her breasts and plays around with her. After he is finished raping Ohina, he kills her. Mataemon Araki, who is sitting nearby, comments on how Inshun likes doing that. Inshun retorts that Mataemon does the same thing. As Mataemon constantly stabs a kunai into his hand, he says that today he doesn't feel like killing girls but wants to kill rats. The two men are being spied on by a ninja. Mataemon suddenly leaps into the trees and slowly kills the ninja. Two more ninjas attack him. He kills one and chases the other. The ninja flees across rooftops but Mataemon is faster than him. Mataemon calls the ninja a mouse. The ninja calls up other ninjas to assist him. Mataemon tells them his name and how it has been a while since he killed a man. The ninjas believe he is lying about his identity. Mataemon removes the scarf covering the lower half of his face and tells them he is \"a born again\". The ninja tells him \"then you will die again\". All the ninjas attack him at once, impaling him on several swords. Mataemon condescends the ninjas' futile attack. He pops the swords out of his body, along with his intestines. He then unsheathes his own sword and uses it along with his dangling intestines to attack and slay the shinobis. Two shinobi escape him. One backs into a dark corner and is quickly sliced to pieces by a resurrected Botaro Tamiya. Botaro tosses a dagger into the other ninja but he replaces himself with a cat. Mataemon yells at Botaro for ruining his fun. At Tajima-no-Kami Yagyu residence, the ninja who survived, whose name is Godaiyu, reports to Munenori Yagyu. He tells him that Lord Yorinobu in Kishu is organizing an army of ronin and that inhuman creatures were appearing. He also tells Munenori that he saw ghosts: Mataemon, Inshun, Botaro. Munenori doesn't believe him and scolds him for drinking. He tells Munenori he wasn't drinking. Munenori says that those men were some of the most skilled killers, and he ponders what Shosetsu is planning. He then begins coughing uncontrollably. Godaiyu says that Jubei would be useful. Munenori yells at him to never mention that name, and Godaiyu apologises. Munenori tells him to continue observing Shosetsu, and Godaiyu slides away into the darkness. Jubei is walking through a fog in the woods when he comes upon a small hut. Inside the hut, Jubei talks to an old man about the prophecy of 'Tenshi'. The old man asks if Jubei really believes in Satan and reminds Jubei that he saw Shiro's staked head. The old man informs Jubei that he has people familiar with underground paths and will be able to use them in case of battle. The old man then tells Jubei that Jubei is too young to quit being a warrior. Jubei tells him he is tired of murdering in the name of duty. The old man asks Jubei how many persons he killed but Jubei tells him that he lost count. The old man says that he should take a break and rest a little. The old man also says that Jubei reminds him of an old friend named Musashi Miyamoto, who strove to excel everyone in swordmanship and now lives as a hermit in the mountains. As the old man talks to Jubei, a little boy leaves Musashi's house thanking him for the lessons. Musashi's house is dug into the side of a mountain. Inside is very spacious with large gigantic statues of numerous warriors. Musashi recollects the Shimabara revolt and watching Jubei fight. He questions if he would be able to defeat Jubei. Musashi then picks up a paintbrush and begins tirelessly drawing a lot of buddhist pictures. Later that night, in Edo, during a full moon; Soiken Mori, Shosetsu Yui, Botaro, Inshun and Mataemon, stand on an altar in a room, surrounding Ocho who is laying down. They all start chanting \"Satan\". A cloud blankets the moon, causing the room to darken. Suddenly the moon turns red, the wind blows strongly, and electricity starts flashing within the room. Shosetsu asks Soiken what's happening but Soiken tells him to be silent. Ocho starts levitating. Her body starts convulsing wildly as her clothes fall off. Suddenly, she exhales an enormous cloud of smog. The smog shapeshifts into a crucifix, then the virgin Mary, then into the Devil. After maintaining its Devil form for a few moments, the smog then returns to Ocho's body. The men stand silently, staring at Ocho. A big bulbous growth forms in Ocho's throat and crawls under her skin to her belly, where it turns into faces and then stretches and pulls Ocho's skin chaotically as it wriggles about. Suddenly, many long strands of silver hair fire out of Ocho's body and wrap around wooden beams, bars, the ceiling, and even Soiken's and Shosetsu's necks. Shosetsu tries to get it off but Soiken tells him to leave it. As Ocho is suspended upside-down, electrical charges flow through the hair. Soiken calls for Satan to come out and for Shiro Amakusa to come out. Ten fingers push out of Ocho's mouth and wiggle about. Then a long split cuts from inside her body and a naked, silver-haired Shiro pushes his way out. As Shiro forces his way out, he rips Ocho into many pieces. The hair strands that kept Ocho suspended, untangle and retreat to Shiro as he lowers himself to the ground. Shiro shrieks and green energy shoots from his body into the air and descends onto the three resurrecteds: Botaro, Mataemon, Inshun. After charging-up, the four jump through the ceiling. The moon returns to normal. Somewhere else, Jubei is walking through the woods when suddenly there is a strong gust of wind which cuts his cheek, causing him to bleed. Musashi is still drawing, when a sudden breeze blows out the candle. A drop of blood falls on his page. There is a street festival going on that night, with hundreds of people in attendance. Botaro is standing in the crowd. He draws his sword and begins slicing randomly, cutting men, women and kids in half. As people start fleeing, Mataemon races through the crowd, hacking people with his sword. Inshun carries a staff with a boomerang blade on the top. He flings the blade into the air and it cuts through many people before returning to his staff. Some persons try fleeing from the spinning blade but are too slow. Shiro, who can use his hair for attacks, extends his hair to impale and slice-up persons. Dozens of men, women and kids are killed and their bodies and heads staked for display. Soiken laughs and declares that hell is unleashing its force. The show ends with the 4 resurrecteds jumping into the air one by one.\n",
            "Predicted genres for the movie plot: ['Thriller', 'Action', 'Horror', 'Action/Adventure']\n"
          ]
        }
      ]
    },
    {
      "cell_type": "code",
      "source": [
        "from sklearn.metrics import accuracy_score, confusion_matrix\n",
        "import numpy as np\n",
        "\n",
        "# Calculate accuracy and confusion matrix for the training data\n",
        "def evaluate_model(X_train, y_train):\n",
        "    # Initialize lists for predictions and true labels\n",
        "    all_predictions = []\n",
        "    all_true_labels = []\n",
        "\n",
        "    for index in range(genre_count):\n",
        "        # Get true labels for the current genre\n",
        "        y_true = y_train[:, index]\n",
        "\n",
        "        # Load the corresponding model\n",
        "        model_path = f\"{model_dir}/lr_model_{index}.pkl\"\n",
        "        lr_model = joblib.load(model_path)\n",
        "\n",
        "        # Predict labels for the training data\n",
        "        y_pred = lr_model.predict(X_train)\n",
        "\n",
        "        # Append predictions and true labels\n",
        "        all_predictions.append(y_pred)\n",
        "        all_true_labels.append(y_true)\n",
        "\n",
        "    # Convert lists to numpy arrays for metrics calculation\n",
        "    all_predictions = np.array(all_predictions).T\n",
        "    all_true_labels = np.array(all_true_labels).T\n",
        "\n",
        "    # Calculate accuracy for each genre\n",
        "    accuracies = [accuracy_score(all_true_labels[:, i], all_predictions[:, i]) for i in range(genre_count)]\n",
        "    overall_accuracy = np.mean(accuracies)\n",
        "\n",
        "    print(f\"Overall Accuracy: {overall_accuracy:.4f}\")\n",
        "\n",
        "    # Confusion Matrix for each genre\n",
        "    for i in range(genre_count):\n",
        "        cm = confusion_matrix(all_true_labels[:, i], all_predictions[:, i])\n",
        "        print(f\"\\nConfusion Matrix for Genre {i}:\\n{cm}\")\n",
        "\n",
        "# Evaluate the model\n",
        "evaluate_model(X_train, y_train)\n"
      ],
      "metadata": {
        "id": "sH9L5kArlDZF"
      },
      "execution_count": null,
      "outputs": []
    }
  ]
}